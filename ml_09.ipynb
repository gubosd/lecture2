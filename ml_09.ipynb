{
 "cells": [
  {
   "cell_type": "markdown",
   "metadata": {},
   "source": [
    "# ml_09\n",
    "## 커널 서포트 벡터 머신\n",
    "Kernel Support Vector Machine (Kernel SVM)"
   ]
  },
  {
   "cell_type": "code",
   "execution_count": 6,
   "metadata": {
    "collapsed": false
   },
   "outputs": [
    {
     "name": "stdout",
     "output_type": "stream",
     "text": [
      "Populating the interactive namespace from numpy and matplotlib\n"
     ]
    },
    {
     "name": "stderr",
     "output_type": "stream",
     "text": [
      "WARNING: pylab import has clobbered these variables: ['gamma']\n",
      "`%matplotlib` prevents importing * from pylab and numpy\n"
     ]
    }
   ],
   "source": [
    "%pylab inline\n",
    "\n",
    "import warnings\n",
    "warnings.filterwarnings('ignore')\n",
    "\n",
    "import numpy as np\n",
    "import matplotlib.pyplot as plt\n",
    "from sklearn.datasets import load_breast_cancer\n",
    "from sklearn.model_selection import train_test_split"
   ]
  },
  {
   "cell_type": "markdown",
   "metadata": {},
   "source": [
    "- 유방암 데이터 (569개)\n",
    "- 타겟명 : malignant(악성,0), benign(양성,1)\n",
    "- 30개의 속성"
   ]
  },
  {
   "cell_type": "code",
   "execution_count": 7,
   "metadata": {
    "collapsed": true
   },
   "outputs": [],
   "source": [
    "cancer = load_breast_cancer()\n",
    "X_train,X_test,y_train,y_test = train_test_split(cancer.data,cancer.target)"
   ]
  },
  {
   "cell_type": "code",
   "execution_count": 12,
   "metadata": {
    "collapsed": false
   },
   "outputs": [
    {
     "name": "stdout",
     "output_type": "stream",
     "text": [
      "['malignant' 'benign']\n",
      "0 mean radius\n",
      "1 mean texture\n",
      "2 mean perimeter\n",
      "3 mean area\n",
      "4 mean smoothness\n",
      "5 mean compactness\n",
      "6 mean concavity\n",
      "7 mean concave points\n",
      "8 mean symmetry\n",
      "9 mean fractal dimension\n",
      "10 radius error\n",
      "11 texture error\n",
      "12 perimeter error\n",
      "13 area error\n",
      "14 smoothness error\n",
      "15 compactness error\n",
      "16 concavity error\n",
      "17 concave points error\n",
      "18 symmetry error\n",
      "19 fractal dimension error\n",
      "20 worst radius\n",
      "21 worst texture\n",
      "22 worst perimeter\n",
      "23 worst area\n",
      "24 worst smoothness\n",
      "25 worst compactness\n",
      "26 worst concavity\n",
      "27 worst concave points\n",
      "28 worst symmetry\n",
      "29 worst fractal dimension\n"
     ]
    }
   ],
   "source": [
    "print(cancer.target_names)\n",
    "for i,name in enumerate(cancer.feature_names):\n",
    "    print(i,name)"
   ]
  },
  {
   "cell_type": "markdown",
   "metadata": {},
   "source": [
    "- 아래는 유방암 데이터를 다양한 C 와 gamma 옵션에 대해 적용한 것이다\n",
    "- 출력값을 보면 테스터 데이터에서 60% 대의 좋지 않은 결과를 보여준다"
   ]
  },
  {
   "cell_type": "code",
   "execution_count": 8,
   "metadata": {
    "collapsed": false
   },
   "outputs": [
    {
     "name": "stdout",
     "output_type": "stream",
     "text": [
      "\n",
      ">>> C: 0.1, gamma: 0.1\n",
      "Train Score: 0.617371\n",
      "Test Score: 0.657343\n",
      "\n",
      ">>> C: 0.1, gamma: 1.0\n",
      "Train Score: 0.617371\n",
      "Test Score: 0.657343\n",
      "\n",
      ">>> C: 0.1, gamma: 10.0\n",
      "Train Score: 0.617371\n",
      "Test Score: 0.657343\n",
      "\n",
      ">>> C: 1.0, gamma: 0.1\n",
      "Train Score: 1.000000\n",
      "Test Score: 0.657343\n",
      "\n",
      ">>> C: 1.0, gamma: 1.0\n",
      "Train Score: 1.000000\n",
      "Test Score: 0.657343\n",
      "\n",
      ">>> C: 1.0, gamma: 10.0\n",
      "Train Score: 1.000000\n",
      "Test Score: 0.657343\n",
      "\n",
      ">>> C: 1000.0, gamma: 0.1\n",
      "Train Score: 1.000000\n",
      "Test Score: 0.657343\n",
      "\n",
      ">>> C: 1000.0, gamma: 1.0\n",
      "Train Score: 1.000000\n",
      "Test Score: 0.657343\n",
      "\n",
      ">>> C: 1000.0, gamma: 10.0\n",
      "Train Score: 1.000000\n",
      "Test Score: 0.657343\n"
     ]
    }
   ],
   "source": [
    "from sklearn.svm import SVC\n",
    "\n",
    "C=[0.001,0.01,0.1,1,10,100,1000,10000]\n",
    "s_train=[]\n",
    "s_test=[]\n",
    "\n",
    "for C in [0.1,1,1000]:\n",
    "    for gamma in [0.1,1,10]:\n",
    "        model=SVC(C=C,gamma=gamma)\n",
    "        model.fit(X_train,y_train)\n",
    "\n",
    "        print('\\n>>> C: %.1f, gamma: %.1f' % (C,gamma))\n",
    "        print('Train Score: %f' % model.score(X_train,y_train))\n",
    "        print('Test Score: %f' % model.score(X_test,y_test))"
   ]
  },
  {
   "cell_type": "code",
   "execution_count": 19,
   "metadata": {
    "collapsed": false
   },
   "outputs": [
    {
     "data": {
      "text/plain": [
       "(426, array([163, 263], dtype=int32), 0.61737089201877937)"
      ]
     },
     "execution_count": 19,
     "metadata": {},
     "output_type": "execute_result"
    }
   ],
   "source": [
    "len(y_train), np.bincount(y_train), np.bincount(y_train)[1]/len(y_train)"
   ]
  },
  {
   "cell_type": "markdown",
   "metadata": {},
   "source": [
    "- 아래의 boxplot 을 보면 속성에 따라 값의 스케일이 크게 다름을 알수 있다\n",
    "- 이런 경우 데이터에 대한 정규화(전처리)가 꼭 필요하다"
   ]
  },
  {
   "cell_type": "code",
   "execution_count": 35,
   "metadata": {
    "collapsed": false
   },
   "outputs": [
    {
     "name": "stdout",
     "output_type": "stream",
     "text": [
      "\n"
     ]
    },
    {
     "data": {
      "image/png": "[encoded data removed]",
      "text/plain": [
       "<matplotlib.figure.Figure at 0xd116930>"
      ]
     },
     "metadata": {},
     "output_type": "display_data"
    }
   ],
   "source": [
    "fig=plt.figure(figsize=[10,8])\n",
    "plt.title('Cancer - boxplot for features',fontsize=15)\n",
    "plt.boxplot(cancer.data)\n",
    "#plt.yscale('symlog')\n",
    "plt.xticks(np.arange(30)+1,cancer.feature_names,rotation=90)\n",
    "plt.xlabel('features')\n",
    "plt.ylabel('scale')\n",
    "print('')"
   ]
  }
 ],
 "metadata": {
  "kernelspec": {
   "display_name": "Python 3",
   "language": "python",
   "name": "python3"
  },
  "language_info": {
   "codemirror_mode": {
    "name": "ipython",
    "version": 3
   },
   "file_extension": ".py",
   "mimetype": "text/x-python",
   "name": "python",
   "nbconvert_exporter": "python",
   "pygments_lexer": "ipython3",
   "version": "3.5.2"
  }
 },
 "nbformat": 4,
 "nbformat_minor": 0
}
