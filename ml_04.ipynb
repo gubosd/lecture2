{
 "cells": [
  {
   "cell_type": "markdown",
   "metadata": {},
   "source": [
    "# ml_04\n",
    "## k-NN 예측 영역 표시"
   ]
  },
  {
   "cell_type": "code",
   "execution_count": 1,
   "metadata": {
    "collapsed": true
   },
   "outputs": [],
   "source": [
    "%matplotlib inline\n",
    "\n",
    "import warnings\n",
    "warnings.filterwarnings('ignore')\n",
    "\n",
    "import numpy as np\n",
    "import matplotlib.pyplot as plt\n",
    "from sklearn.datasets import load_iris\n",
    "from sklearn.model_selection import train_test_split\n",
    "from sklearn.neighbors import KNeighborsClassifier"
   ]
  },
  {
   "cell_type": "code",
   "execution_count": 2,
   "metadata": {
    "collapsed": false
   },
   "outputs": [
    {
     "name": "stdout",
     "output_type": "stream",
     "text": [
      "accuracy : 1.0\n"
     ]
    }
   ],
   "source": [
    "iris = load_iris()\n",
    "\n",
    "X1=iris.data[iris.target==0]     # (50,4) Setosa\n",
    "X2=iris.data[iris.target==1]     # (50,4) Versicolor\n",
    "X3=iris.data[iris.target==2]     # (50,4) Virginica\n",
    "\n",
    "# KNN\n",
    "\n",
    "from sklearn.neighbors import KNeighborsClassifier\n",
    "from sklearn.metrics import accuracy_score\n",
    "\n",
    "X=np.vstack([X1,X2])[:,:2]\n",
    "y=np.array([0]*50+[1]*50)\n",
    "\n",
    "model = KNeighborsClassifier(n_neighbors=1)\n",
    "model.fit(X,y)\n",
    "pred_y = model.predict(X)\n",
    "acc=accuracy_score(y,pred_y)\n",
    "print('accuracy :',acc)"
   ]
  },
  {
   "cell_type": "code",
   "execution_count": 12,
   "metadata": {
    "collapsed": false
   },
   "outputs": [
    {
     "data": {
      "text/plain": [
       "<matplotlib.legend.Legend at 0x51fc870>"
      ]
     },
     "execution_count": 12,
     "metadata": {},
     "output_type": "execute_result"
    },
    {
     "data": {
      "image/png": "[encoded data removed]",
      "text/plain": [
       "<matplotlib.figure.Figure at 0x802f970>"
      ]
     },
     "metadata": {},
     "output_type": "display_data"
    }
   ],
   "source": [
    "# plot results\n",
    "\n",
    "xx=np.linspace(4,7.5,100)\n",
    "yy=np.linspace(1,4.7,100)\n",
    "data1, data2 = np.meshgrid(xx,yy)\n",
    "X_grid = np.c_[data1.ravel(), data2.ravel()]\n",
    "decision_values = model.predict_proba(X_grid)[:, 1]\n",
    "\n",
    "fig=plt.figure(figsize=(10,8))\n",
    "fig.suptitle('Setosa - Versicolor')\n",
    "\n",
    "plt.contourf(data1,data2,decision_values.reshape(data1.shape),levels=[-0.5,0.5,1.5])\n",
    "\n",
    "plt.scatter(X1[:,0],X1[:,1],marker='o',color='y',label='Setosa')\n",
    "plt.scatter(X2[:,0],X2[:,1],marker='s',color='g',label='Versicolor')\n",
    "plt.xlabel(iris.feature_names[0])\n",
    "plt.ylabel(iris.feature_names[1])\n",
    "plt.legend()"
   ]
  }
 ],
 "metadata": {
  "kernelspec": {
   "display_name": "Python 3",
   "language": "python",
   "name": "python3"
  },
  "language_info": {
   "codemirror_mode": {
    "name": "ipython",
    "version": 3
   },
   "file_extension": ".py",
   "mimetype": "text/x-python",
   "name": "python",
   "nbconvert_exporter": "python",
   "pygments_lexer": "ipython3",
   "version": "3.5.2"
  }
 },
 "nbformat": 4,
 "nbformat_minor": 0
}
