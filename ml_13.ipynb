{
 "cells": [
  {
   "cell_type": "markdown",
   "metadata": {},
   "source": [
    "# ml_13\n",
    "## 교차검증 (Cross-validation)"
   ]
  },
  {
   "cell_type": "code",
   "execution_count": 11,
   "metadata": {
    "collapsed": false
   },
   "outputs": [
    {
     "name": "stdout",
     "output_type": "stream",
     "text": [
      "Populating the interactive namespace from numpy and matplotlib\n"
     ]
    }
   ],
   "source": [
    "%pylab inline\n",
    "\n",
    "import warnings\n",
    "warnings.filterwarnings('ignore')\n",
    "\n",
    "import numpy as np\n",
    "import matplotlib.pyplot as plt\n",
    "from sklearn.datasets import load_iris\n",
    "from sklearn.svm import SVC"
   ]
  },
  {
   "cell_type": "code",
   "execution_count": 12,
   "metadata": {
    "collapsed": true
   },
   "outputs": [],
   "source": [
    "iris = load_iris()\n",
    "model = SVC()"
   ]
  },
  {
   "cell_type": "code",
   "execution_count": 18,
   "metadata": {
    "collapsed": false
   },
   "outputs": [
    {
     "name": "stdout",
     "output_type": "stream",
     "text": [
      "cv=2 : [ 0.96        0.93333333] ==> 0.946666666667\n",
      "cv=3 : [ 0.98039216  0.96078431  0.97916667] ==> 0.973447712418\n",
      "cv=4 : [ 0.97435897  1.          0.94444444  0.97222222] ==> 0.972756410256\n",
      "cv=5 : [ 0.96666667  1.          0.96666667  0.96666667  1.        ] ==> 0.98\n"
     ]
    }
   ],
   "source": [
    "from sklearn.model_selection import cross_val_score\n",
    "\n",
    "for cv in [2,3,4,5]:\n",
    "    scores = cross_val_score(model,iris.data,iris.target,cv=cv)\n",
    "    print('cv=%d :' % cv,scores, '==>', scores.mean())"
   ]
  },
  {
   "cell_type": "code",
   "execution_count": 27,
   "metadata": {
    "collapsed": false
   },
   "outputs": [
    {
     "name": "stdout",
     "output_type": "stream",
     "text": [
      "cv=2 : [ 1.          0.93333333] ==> 0.966666666667\n",
      "cv=3 : [ 0.93333333  1.          0.93333333] ==> 0.955555555556\n",
      "cv=4 : [ 1.          0.93333333  1.          1.        ] ==> 0.983333333333\n",
      "cv=5 : [ 1.          1.          0.93333333  1.          1.        ] ==> 0.986666666667\n"
     ]
    }
   ],
   "source": [
    "from sklearn.model_selection import ShuffleSplit\n",
    "\n",
    "for n in [2,3,4,5]:\n",
    "    cv = ShuffleSplit(n_splits=n) # random_state\n",
    "    scores=cross_val_score(model, iris.data, iris.target, cv=cv)\n",
    "    print('cv=%d :' % n,scores, '==>', scores.mean())"
   ]
  },
  {
   "cell_type": "code",
   "execution_count": 28,
   "metadata": {
    "collapsed": false
   },
   "outputs": [
    {
     "name": "stdout",
     "output_type": "stream",
     "text": [
      "[ 0.96666667  0.96666667  0.9         0.9         1.        ]\n"
     ]
    }
   ],
   "source": [
    "from sklearn.model_selection import KFold, StratifiedKFold\n",
    "\n",
    "kfold=KFold(n_splits=5,shuffle=True,random_state=55)\n",
    "\n",
    "scores = cross_val_score(model,iris.data,iris.target,cv=kfold)\n",
    "print(scores)"
   ]
  }
 ],
 "metadata": {
  "kernelspec": {
   "display_name": "Python 3",
   "language": "python",
   "name": "python3"
  },
  "language_info": {
   "codemirror_mode": {
    "name": "ipython",
    "version": 3
   },
   "file_extension": ".py",
   "mimetype": "text/x-python",
   "name": "python",
   "nbconvert_exporter": "python",
   "pygments_lexer": "ipython3",
   "version": "3.5.2"
  }
 },
 "nbformat": 4,
 "nbformat_minor": 0
}
