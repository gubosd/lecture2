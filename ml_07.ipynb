{
 "cells": [
  {
   "cell_type": "markdown",
   "metadata": {},
   "source": [
    "# ml_07\n",
    "## 선형 서포트 벡터 머신\n",
    "Linear Support Vector Machine (SVM)"
   ]
  },
  {
   "cell_type": "code",
   "execution_count": 48,
   "metadata": {
    "collapsed": true
   },
   "outputs": [],
   "source": [
    "%matplotlib inline\n",
    "\n",
    "import warnings\n",
    "warnings.filterwarnings('ignore')\n",
    "\n",
    "import numpy as np\n",
    "import matplotlib.pyplot as plt\n",
    "from sklearn.datasets import load_iris\n",
    "from sklearn.model_selection import train_test_split"
   ]
  },
  {
   "cell_type": "code",
   "execution_count": 49,
   "metadata": {
    "collapsed": true
   },
   "outputs": [],
   "source": [
    "iris = load_iris()\n",
    "X_train,X_test,y_train,y_test = train_test_split(iris.data,iris.target)"
   ]
  },
  {
   "cell_type": "code",
   "execution_count": 50,
   "metadata": {
    "collapsed": false
   },
   "outputs": [],
   "source": [
    "from sklearn.svm import LinearSVC\n",
    "#from sklearn.linear_model import LogisticRegression\n",
    "\n",
    "C=[0.001,0.01,0.1,1,10,100,1000,10000]\n",
    "s_train=[]\n",
    "s_test=[]\n",
    "\n",
    "for c in C:\n",
    "    model=LinearSVC(C=c) # default value C=1.0\n",
    "    #model=LogisticRegression(C=c)\n",
    "    model.fit(X_train,y_train)\n",
    "    s_train.append(model.score(X_train,y_train))\n",
    "    s_test.append(model.score(X_test,y_test))\n",
    "    '''\n",
    "    print('== %f ==' % C)\n",
    "    print('Train Score: %f' % model.score(X_train,y_train))\n",
    "    print('Test Score: %f' % model.score(X_test,y_test))\n",
    "    '''"
   ]
  },
  {
   "cell_type": "code",
   "execution_count": 51,
   "metadata": {
    "collapsed": false
   },
   "outputs": [
    {
     "data": {
      "text/plain": [
       "<matplotlib.legend.Legend at 0x7deb0b0>"
      ]
     },
     "execution_count": 51,
     "metadata": {},
     "output_type": "execute_result"
    },
    {
     "data": {
      "image/png": "[encoded data removed]",
      "text/plain": [
       "<matplotlib.figure.Figure at 0x8032bb0>"
      ]
     },
     "metadata": {},
     "output_type": "display_data"
    }
   ],
   "source": [
    "plt.title(\"Scores for Cs\")\n",
    "plt.plot(range(len(C)),s_train,'ro-',label='train data')\n",
    "plt.plot(range(len(C)),s_test,'gs--',label='test data')\n",
    "plt.ylim(0.5,1)\n",
    "plt.xticks(range(len(C)),C)\n",
    "plt.xlabel('C value')\n",
    "plt.ylabel('score')\n",
    "plt.legend(loc='lower right')"
   ]
  }
 ],
 "metadata": {
  "kernelspec": {
   "display_name": "Python 3",
   "language": "python",
   "name": "python3"
  },
  "language_info": {
   "codemirror_mode": {
    "name": "ipython",
    "version": 3
   },
   "file_extension": ".py",
   "mimetype": "text/x-python",
   "name": "python",
   "nbconvert_exporter": "python",
   "pygments_lexer": "ipython3",
   "version": "3.5.2"
  }
 },
 "nbformat": 4,
 "nbformat_minor": 0
}
