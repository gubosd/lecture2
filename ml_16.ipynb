{
 "cells": [
  {
   "cell_type": "markdown",
   "metadata": {},
   "source": [
    "# ml_16\n",
    "## One-hot-encoding"
   ]
  },
  {
   "cell_type": "code",
   "execution_count": 3,
   "metadata": {
    "collapsed": false
   },
   "outputs": [
    {
     "name": "stdout",
     "output_type": "stream",
     "text": [
      "Populating the interactive namespace from numpy and matplotlib\n"
     ]
    }
   ],
   "source": [
    "%pylab inline\n",
    "\n",
    "import warnings\n",
    "warnings.filterwarnings('ignore')\n",
    "\n",
    "import numpy as np"
   ]
  },
  {
   "cell_type": "code",
   "execution_count": 10,
   "metadata": {
    "collapsed": false
   },
   "outputs": [
    {
     "name": "stdout",
     "output_type": "stream",
     "text": [
      "[[25, 172, 1, 0, 0, 1], [53, 169, 0, 1, 0, 0], [49, 177, 0, 0, 1, 1]]\n"
     ]
    }
   ],
   "source": [
    "data=[[25,172,'서울',1],[53,169,'부산',0],[49,177,'대구',1]]\n",
    "loc={'서울':[1,0,0], '부산':[0,1,0], '대구':[0,0,1]}\n",
    "\n",
    "X=[]\n",
    "for d in data:\n",
    "    row=[ d[0], d[1] ]\n",
    "    row += loc[d[2]]\n",
    "    row.append(d[3])\n",
    "    X.append(row)\n",
    "\n",
    "print(X)"
   ]
  },
  {
   "cell_type": "code",
   "execution_count": 9,
   "metadata": {
    "collapsed": false
   },
   "outputs": [
    {
     "name": "stdout",
     "output_type": "stream",
     "text": [
      "[[25, 172, 1.0, 0.0, 0.0, 1], [53, 169, 0.0, 1.0, 0.0, 0], [49, 177, 0.0, 0.0, 1.0, 1]]\n"
     ]
    }
   ],
   "source": [
    "data=[[25,172,'서울',1],[53,169,'부산',0],[49,177,'대구',1]]\n",
    "loc={'서울':0, '부산':1, '대구':2}\n",
    "eye=np.eye(3)\n",
    "\n",
    "X=[]\n",
    "for d in data:\n",
    "    row=[d[0],d[1]]\n",
    "    row += list(eye[loc[d[2]]])\n",
    "    row.append(d[3])\n",
    "    X.append(row)\n",
    "    \n",
    "print(X)"
   ]
  }
 ],
 "metadata": {
  "kernelspec": {
   "display_name": "Python 3",
   "language": "python",
   "name": "python3"
  },
  "language_info": {
   "codemirror_mode": {
    "name": "ipython",
    "version": 3
   },
   "file_extension": ".py",
   "mimetype": "text/x-python",
   "name": "python",
   "nbconvert_exporter": "python",
   "pygments_lexer": "ipython3",
   "version": "3.5.2"
  }
 },
 "nbformat": 4,
 "nbformat_minor": 0
}
